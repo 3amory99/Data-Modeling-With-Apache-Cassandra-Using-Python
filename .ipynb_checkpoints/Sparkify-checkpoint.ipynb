{
 "cells": [
  {
   "cell_type": "code",
   "execution_count": 1,
   "id": "4b4e8225",
   "metadata": {},
   "outputs": [],
   "source": [
    "import pandas as pd\n",
    "import cassandra\n",
    "import numpy as np\n",
    "import re\n",
    "import os\n",
    "import glob\n",
    "import json\n",
    "import csv"
   ]
  },
  {
   "cell_type": "code",
   "execution_count": 2,
   "id": "557ac90c",
   "metadata": {},
   "outputs": [],
   "source": [
    "import logging\n",
    "logging.getLogger('cassandra').setLevel(logging.ERROR)"
   ]
  },
  {
   "cell_type": "markdown",
   "id": "74ed6579",
   "metadata": {},
   "source": [
    "#### Creating list of filepaths to process original event csv data files"
   ]
  },
  {
   "cell_type": "code",
   "execution_count": 3,
   "id": "ef01f42e",
   "metadata": {},
   "outputs": [
    {
     "name": "stdout",
     "output_type": "stream",
     "text": [
      "/home/omar/BigData/Data Modeling with apache cassandra/Data Modeling With Apache Cassandra\n"
     ]
    }
   ],
   "source": [
    "print(os.getcwd())"
   ]
  },
  {
   "cell_type": "code",
   "execution_count": 4,
   "id": "75940b29",
   "metadata": {},
   "outputs": [],
   "source": [
    "filepath = os.getcwd() + '/event_data'\n",
    "for root, dirs, files in os.walk(filepath):\n",
    "    file_path_list = glob.glob(os.path.join(root,'*'))\n",
    "#     print(file_path_list)"
   ]
  },
  {
   "cell_type": "markdown",
   "id": "f6880064",
   "metadata": {},
   "source": [
    "#### Processing the files to create the data file csv that will be used for Apache Casssandra tables"
   ]
  },
  {
   "cell_type": "code",
   "execution_count": 5,
   "id": "9ac4dbc5",
   "metadata": {},
   "outputs": [],
   "source": [
    "full_data_rows_list = [] \n",
    "for file in file_path_list:\n",
    "    with open(file,'r',encoding='utf8',newline='') as csvfile:\n",
    "        reader = csv.reader(csvfile)\n",
    "        next(reader) #for skipping header\n",
    "        for row in reader:\n",
    "            full_data_rows_list.append(row)"
   ]
  },
  {
   "cell_type": "code",
   "execution_count": 82,
   "id": "ac7d5ad4",
   "metadata": {},
   "outputs": [],
   "source": [
    "# dd = pd.read_csv('event_datafile.csv')\n",
    "# dd"
   ]
  },
  {
   "cell_type": "code",
   "execution_count": 65,
   "id": "c35da829",
   "metadata": {},
   "outputs": [
    {
     "data": {
      "text/html": [
       "<div>\n",
       "<style scoped>\n",
       "    .dataframe tbody tr th:only-of-type {\n",
       "        vertical-align: middle;\n",
       "    }\n",
       "\n",
       "    .dataframe tbody tr th {\n",
       "        vertical-align: top;\n",
       "    }\n",
       "\n",
       "    .dataframe thead th {\n",
       "        text-align: right;\n",
       "    }\n",
       "</style>\n",
       "<table border=\"1\" class=\"dataframe\">\n",
       "  <thead>\n",
       "    <tr style=\"text-align: right;\">\n",
       "      <th></th>\n",
       "      <th>0</th>\n",
       "      <th>1</th>\n",
       "      <th>2</th>\n",
       "      <th>3</th>\n",
       "      <th>4</th>\n",
       "      <th>5</th>\n",
       "      <th>6</th>\n",
       "      <th>7</th>\n",
       "      <th>8</th>\n",
       "      <th>9</th>\n",
       "      <th>10</th>\n",
       "      <th>11</th>\n",
       "      <th>12</th>\n",
       "      <th>13</th>\n",
       "      <th>14</th>\n",
       "      <th>15</th>\n",
       "      <th>16</th>\n",
       "    </tr>\n",
       "  </thead>\n",
       "  <tbody>\n",
       "    <tr>\n",
       "      <th>0</th>\n",
       "      <td>Kenny G</td>\n",
       "      <td>Logged In</td>\n",
       "      <td>Chloe</td>\n",
       "      <td>F</td>\n",
       "      <td>53</td>\n",
       "      <td>Cuevas</td>\n",
       "      <td>256.57424</td>\n",
       "      <td>paid</td>\n",
       "      <td>San Francisco-Oakland-Hayward, CA</td>\n",
       "      <td>PUT</td>\n",
       "      <td>NextSong</td>\n",
       "      <td>1.54094E+12</td>\n",
       "      <td>648</td>\n",
       "      <td>Everlasting</td>\n",
       "      <td>200</td>\n",
       "      <td>1.54241E+12</td>\n",
       "      <td>49</td>\n",
       "    </tr>\n",
       "    <tr>\n",
       "      <th>1</th>\n",
       "      <td>Randy Crawford</td>\n",
       "      <td>Logged In</td>\n",
       "      <td>Chloe</td>\n",
       "      <td>F</td>\n",
       "      <td>54</td>\n",
       "      <td>Cuevas</td>\n",
       "      <td>251.402</td>\n",
       "      <td>paid</td>\n",
       "      <td>San Francisco-Oakland-Hayward, CA</td>\n",
       "      <td>PUT</td>\n",
       "      <td>NextSong</td>\n",
       "      <td>1.54094E+12</td>\n",
       "      <td>648</td>\n",
       "      <td>Rio De Janeiro Blue (Album Version)</td>\n",
       "      <td>200</td>\n",
       "      <td>1.54241E+12</td>\n",
       "      <td>49</td>\n",
       "    </tr>\n",
       "    <tr>\n",
       "      <th>2</th>\n",
       "      <td>Placebo</td>\n",
       "      <td>Logged In</td>\n",
       "      <td>Chloe</td>\n",
       "      <td>F</td>\n",
       "      <td>55</td>\n",
       "      <td>Cuevas</td>\n",
       "      <td>224.02567</td>\n",
       "      <td>paid</td>\n",
       "      <td>San Francisco-Oakland-Hayward, CA</td>\n",
       "      <td>PUT</td>\n",
       "      <td>NextSong</td>\n",
       "      <td>1.54094E+12</td>\n",
       "      <td>648</td>\n",
       "      <td>Breathe Underwater</td>\n",
       "      <td>200</td>\n",
       "      <td>1.54241E+12</td>\n",
       "      <td>49</td>\n",
       "    </tr>\n",
       "    <tr>\n",
       "      <th>3</th>\n",
       "      <td>Poison The Well</td>\n",
       "      <td>Logged In</td>\n",
       "      <td>Chloe</td>\n",
       "      <td>F</td>\n",
       "      <td>56</td>\n",
       "      <td>Cuevas</td>\n",
       "      <td>184.60689</td>\n",
       "      <td>paid</td>\n",
       "      <td>San Francisco-Oakland-Hayward, CA</td>\n",
       "      <td>PUT</td>\n",
       "      <td>NextSong</td>\n",
       "      <td>1.54094E+12</td>\n",
       "      <td>648</td>\n",
       "      <td>Riverside</td>\n",
       "      <td>200</td>\n",
       "      <td>1.54241E+12</td>\n",
       "      <td>49</td>\n",
       "    </tr>\n",
       "    <tr>\n",
       "      <th>4</th>\n",
       "      <td>Justin Bieber</td>\n",
       "      <td>Logged In</td>\n",
       "      <td>Chloe</td>\n",
       "      <td>F</td>\n",
       "      <td>57</td>\n",
       "      <td>Cuevas</td>\n",
       "      <td>196.88444</td>\n",
       "      <td>paid</td>\n",
       "      <td>San Francisco-Oakland-Hayward, CA</td>\n",
       "      <td>PUT</td>\n",
       "      <td>NextSong</td>\n",
       "      <td>1.54094E+12</td>\n",
       "      <td>648</td>\n",
       "      <td>U Smile</td>\n",
       "      <td>200</td>\n",
       "      <td>1.54241E+12</td>\n",
       "      <td>49</td>\n",
       "    </tr>\n",
       "  </tbody>\n",
       "</table>\n",
       "</div>"
      ],
      "text/plain": [
       "                0          1      2  3   4       5          6     7   \\\n",
       "0          Kenny G  Logged In  Chloe  F  53  Cuevas  256.57424  paid   \n",
       "1   Randy Crawford  Logged In  Chloe  F  54  Cuevas    251.402  paid   \n",
       "2          Placebo  Logged In  Chloe  F  55  Cuevas  224.02567  paid   \n",
       "3  Poison The Well  Logged In  Chloe  F  56  Cuevas  184.60689  paid   \n",
       "4    Justin Bieber  Logged In  Chloe  F  57  Cuevas  196.88444  paid   \n",
       "\n",
       "                                  8    9         10           11   12  \\\n",
       "0  San Francisco-Oakland-Hayward, CA  PUT  NextSong  1.54094E+12  648   \n",
       "1  San Francisco-Oakland-Hayward, CA  PUT  NextSong  1.54094E+12  648   \n",
       "2  San Francisco-Oakland-Hayward, CA  PUT  NextSong  1.54094E+12  648   \n",
       "3  San Francisco-Oakland-Hayward, CA  PUT  NextSong  1.54094E+12  648   \n",
       "4  San Francisco-Oakland-Hayward, CA  PUT  NextSong  1.54094E+12  648   \n",
       "\n",
       "                                    13   14           15  16  \n",
       "0                          Everlasting  200  1.54241E+12  49  \n",
       "1  Rio De Janeiro Blue (Album Version)  200  1.54241E+12  49  \n",
       "2                   Breathe Underwater  200  1.54241E+12  49  \n",
       "3                            Riverside  200  1.54241E+12  49  \n",
       "4                              U Smile  200  1.54241E+12  49  "
      ]
     },
     "execution_count": 65,
     "metadata": {},
     "output_type": "execute_result"
    }
   ],
   "source": [
    "df = pd.DataFrame(full_data_rows_list)\n",
    "df.head()"
   ]
  },
  {
   "cell_type": "code",
   "execution_count": 7,
   "id": "9ae5c554",
   "metadata": {},
   "outputs": [],
   "source": [
    "csv.register_dialect('dialect',quoting=csv.QUOTE_ALL, skipinitialspace=True)\n",
    "with open('event_datafile.csv', 'w', encoding='utf8', newline='') as file:\n",
    "    writer = csv.writer(file, dialect='dialect')\n",
    "    writer.writerow(['artist','firstName','gender','itemInSession','lastName','length',\\\n",
    "                'level','location','sessionId','song','userId'])\n",
    "    for row in full_data_rows_list:\n",
    "        if(row[0]==''):\n",
    "            continue\n",
    "        writer.writerow((row[0], row[2], row[3], row[4], row[5], row[6], row[7], row[8], row[12], row[13], row[16]))"
   ]
  },
  {
   "cell_type": "code",
   "execution_count": 8,
   "id": "f9c9d52d",
   "metadata": {},
   "outputs": [
    {
     "name": "stdout",
     "output_type": "stream",
     "text": [
      "6821\n"
     ]
    }
   ],
   "source": [
    "# checking the number of rows in your csv file\n",
    "with open('event_datafile.csv','r',encoding='utf8') as file:\n",
    "    print(sum(1 for line in file))"
   ]
  },
  {
   "cell_type": "markdown",
   "id": "2ade190b",
   "metadata": {},
   "source": [
    "## Part 2 Apache Cassandra database"
   ]
  },
  {
   "cell_type": "code",
   "execution_count": null,
   "id": "4396b7e4",
   "metadata": {},
   "outputs": [],
   "source": [
    "!pip install cassandra-driver"
   ]
  },
  {
   "cell_type": "code",
   "execution_count": 9,
   "id": "3bf321d7",
   "metadata": {},
   "outputs": [],
   "source": [
    "# This should make a connection to a Cassandra instance your local machine \n",
    "# (127.0.0.1)\n",
    "\n",
    "from cassandra.cluster import Cluster\n",
    "cluster = Cluster(['127.0.0.1'])\n",
    "\n",
    "# To establish connection and begin executing queries, need a session\n",
    "session = cluster.connect()"
   ]
  },
  {
   "cell_type": "code",
   "execution_count": 10,
   "id": "4c79d04b",
   "metadata": {},
   "outputs": [],
   "source": [
    "try:\n",
    "    session.execute(\"\"\"\n",
    "    CREATE KEYSPACE IF NOT EXISTS sparkify \n",
    "    WITH REPLICATION = \n",
    "    { 'class' : 'SimpleStrategy', 'replication_factor' : 1 }\"\"\"\n",
    ")\n",
    "\n",
    "except Exception as e:\n",
    "    print(e)"
   ]
  },
  {
   "cell_type": "code",
   "execution_count": 11,
   "id": "d245ac74",
   "metadata": {},
   "outputs": [],
   "source": [
    "try:\n",
    "    session.set_keyspace('sparkify')\n",
    "except Exception as e:\n",
    "    print(e)"
   ]
  },
  {
   "cell_type": "markdown",
   "id": "63020467",
   "metadata": {},
   "source": [
    "## First Query"
   ]
  },
  {
   "cell_type": "code",
   "execution_count": 12,
   "id": "77e934b7",
   "metadata": {},
   "outputs": [],
   "source": [
    "query = \"\"\"CREATE TABLE IF NOT EXISTS music_lib_by_session\n",
    "           (session_id int,item_in_session int, artist text,song text, length float , PRIMARY KEY (session_id,item_in_session))\"\"\"\n",
    "try:\n",
    "    session.execute(query)\n",
    "except Exception as e:\n",
    "    print(e)"
   ]
  },
  {
   "cell_type": "code",
   "execution_count": 13,
   "id": "4fb197e6",
   "metadata": {},
   "outputs": [],
   "source": [
    "file = \"event_datafile.csv\"\n",
    "with open (file, 'r', encoding='utf8') as f:\n",
    "    csvreader = csv.reader(f)\n",
    "    next(csvreader) # for skipping header\n",
    "    \n",
    "    for line in csvreader:\n",
    "        query = \"\"\"INSERT INTO music_lib_by_session (session_id, item_in_session, artist, song, length)\n",
    "        VALUES (%s, %s, %s, %s, %s)\"\"\"\n",
    "        session.execute(query,(int(line[8]), int(line[3]), line[0], line[9], float(line[5])))"
   ]
  },
  {
   "cell_type": "markdown",
   "id": "c1edc17a",
   "metadata": {},
   "source": [
    "### Doing a SELECT to verify that the data have been inserted into each table"
   ]
  },
  {
   "cell_type": "code",
   "execution_count": 73,
   "id": "5ea69b9a",
   "metadata": {},
   "outputs": [],
   "source": [
    "query = \"SELECT * FROM sparkify.music_lib_by_session WHERE session_id = 648 AND item_in_session = 55;\"\n",
    "try:\n",
    "    rows = session.execute(query)\n",
    "except Exception as e:\n",
    "    print(e)"
   ]
  },
  {
   "cell_type": "code",
   "execution_count": 71,
   "id": "80973a10",
   "metadata": {},
   "outputs": [
    {
     "name": "stdout",
     "output_type": "stream",
     "text": [
      "Artist: Placebo\n",
      "sessionId: 648\n",
      "ItemInSession: 55\n",
      "Length: 224.02566528320312\n",
      "Song: Breathe Underwater\n",
      "\n"
     ]
    }
   ],
   "source": [
    "for row in rows:\n",
    "    print('Artist: {0}\\nsessionId: {1}\\nItemInSession: {2}\\nLength: {3}\\nSong: {4}\\n'\\\n",
    "          .format(row.artist,row.session_id,row.item_in_session,row.length,row.song))"
   ]
  },
  {
   "cell_type": "code",
   "execution_count": 74,
   "id": "39907f10",
   "metadata": {},
   "outputs": [
    {
     "data": {
      "text/html": [
       "<div>\n",
       "<style scoped>\n",
       "    .dataframe tbody tr th:only-of-type {\n",
       "        vertical-align: middle;\n",
       "    }\n",
       "\n",
       "    .dataframe tbody tr th {\n",
       "        vertical-align: top;\n",
       "    }\n",
       "\n",
       "    .dataframe thead th {\n",
       "        text-align: right;\n",
       "    }\n",
       "</style>\n",
       "<table border=\"1\" class=\"dataframe\">\n",
       "  <thead>\n",
       "    <tr style=\"text-align: right;\">\n",
       "      <th></th>\n",
       "      <th>Artist</th>\n",
       "      <th>sessionId</th>\n",
       "      <th>ItemInSession</th>\n",
       "      <th>Length</th>\n",
       "      <th>Song</th>\n",
       "    </tr>\n",
       "  </thead>\n",
       "  <tbody>\n",
       "    <tr>\n",
       "      <th>0</th>\n",
       "      <td>648</td>\n",
       "      <td>55</td>\n",
       "      <td>Placebo</td>\n",
       "      <td>224.025665</td>\n",
       "      <td>Breathe Underwater</td>\n",
       "    </tr>\n",
       "  </tbody>\n",
       "</table>\n",
       "</div>"
      ],
      "text/plain": [
       "   Artist  sessionId ItemInSession      Length                Song\n",
       "0     648         55       Placebo  224.025665  Breathe Underwater"
      ]
     },
     "execution_count": 74,
     "metadata": {},
     "output_type": "execute_result"
    }
   ],
   "source": [
    "q1 = pd.DataFrame(data = rows,columns=['Artist','sessionId','ItemInSession','Length','Song'])\n",
    "q1"
   ]
  },
  {
   "cell_type": "markdown",
   "id": "e6939c3e",
   "metadata": {},
   "source": [
    "### Second Query\n"
   ]
  },
  {
   "cell_type": "code",
   "execution_count": 52,
   "id": "840ea562",
   "metadata": {},
   "outputs": [],
   "source": [
    "try:\n",
    "    session.execute(\"\"\"\n",
    "                    CREATE TABLE IF NOT EXISTS music_lib_by_user (\n",
    "                    user_id INT,\n",
    "                    session_id INT,\n",
    "                    item_in_session INT,\n",
    "                    artist TEXT,\n",
    "                    song TEXT,\n",
    "                    first_name TEXT,\n",
    "                    last_name TEXT,\n",
    "                    PRIMARY KEY ((user_id,session_id),item_in_session))\n",
    "    \"\"\")\n",
    "except Exception as e:\n",
    "    print(e)"
   ]
  },
  {
   "cell_type": "code",
   "execution_count": 76,
   "id": "7c5325e2",
   "metadata": {},
   "outputs": [],
   "source": [
    "file = \"event_datafile.csv\"\n",
    "with open(file, 'r',encoding='utf8') as f:\n",
    "    csvreader = csv.reader(f)\n",
    "    next(csvreader) # for skipping header\n",
    "    \n",
    "    for line in csvreader:\n",
    "        query = \"\"\"\n",
    "        INSERT INTO music_lib_by_user (user_id, session_id, item_in_session, artist, song, first_name, last_name)\n",
    "        VALUES (%s,%s,%s,%s,%s,%s,%s)\n",
    "        \"\"\"\n",
    "        session.execute(query,(int(line[10]),int(line[8]),int(line[3]),line[0],line[9],line[1],line[4]))"
   ]
  },
  {
   "cell_type": "code",
   "execution_count": 77,
   "id": "728953b9",
   "metadata": {},
   "outputs": [],
   "source": [
    "query = \"SELECT artist,song,first_name,last_name FROM music_lib_by_user where user_id = 10 and session_id = 182\"\n",
    "try:\n",
    "    rows = session.execute(query)\n",
    "except Exception as e:\n",
    "    print(e)"
   ]
  },
  {
   "cell_type": "code",
   "execution_count": 63,
   "id": "4290e759",
   "metadata": {},
   "outputs": [
    {
     "name": "stdout",
     "output_type": "stream",
     "text": [
      "Artist: Down To The Bone\n",
      "song: Keep On Keepin' On\n",
      "first_name: Sylvie\n",
      "last_name:\n",
      "Artist: Three Drives\n",
      "song: Greece 2000\n",
      "first_name: Sylvie\n",
      "last_name:\n",
      "Artist: Sebastien Tellier\n",
      "song: Kilometer\n",
      "first_name: Sylvie\n",
      "last_name:\n",
      "Artist: Lonnie Gordon\n",
      "song: Catch You Baby (Steve Pitron & Max Sanna Radio Edit)\n",
      "first_name: Sylvie\n",
      "last_name:\n"
     ]
    }
   ],
   "source": [
    "for row in rows:\n",
    "    print('Artist: {0}\\nsong: {1}\\nfirst_name: {2}\\nlast_name:'\\\n",
    "          .format(row.artist,row.song,row.first_name,row.last_name))"
   ]
  },
  {
   "cell_type": "code",
   "execution_count": 78,
   "id": "9cb6356e",
   "metadata": {},
   "outputs": [
    {
     "data": {
      "text/html": [
       "<div>\n",
       "<style scoped>\n",
       "    .dataframe tbody tr th:only-of-type {\n",
       "        vertical-align: middle;\n",
       "    }\n",
       "\n",
       "    .dataframe tbody tr th {\n",
       "        vertical-align: top;\n",
       "    }\n",
       "\n",
       "    .dataframe thead th {\n",
       "        text-align: right;\n",
       "    }\n",
       "</style>\n",
       "<table border=\"1\" class=\"dataframe\">\n",
       "  <thead>\n",
       "    <tr style=\"text-align: right;\">\n",
       "      <th></th>\n",
       "      <th>Artist</th>\n",
       "      <th>Song</th>\n",
       "      <th>first_name</th>\n",
       "      <th>last_name</th>\n",
       "    </tr>\n",
       "  </thead>\n",
       "  <tbody>\n",
       "    <tr>\n",
       "      <th>0</th>\n",
       "      <td>Down To The Bone</td>\n",
       "      <td>Keep On Keepin' On</td>\n",
       "      <td>Sylvie</td>\n",
       "      <td>Cruz</td>\n",
       "    </tr>\n",
       "    <tr>\n",
       "      <th>1</th>\n",
       "      <td>Three Drives</td>\n",
       "      <td>Greece 2000</td>\n",
       "      <td>Sylvie</td>\n",
       "      <td>Cruz</td>\n",
       "    </tr>\n",
       "    <tr>\n",
       "      <th>2</th>\n",
       "      <td>Sebastien Tellier</td>\n",
       "      <td>Kilometer</td>\n",
       "      <td>Sylvie</td>\n",
       "      <td>Cruz</td>\n",
       "    </tr>\n",
       "    <tr>\n",
       "      <th>3</th>\n",
       "      <td>Lonnie Gordon</td>\n",
       "      <td>Catch You Baby (Steve Pitron &amp; Max Sanna Radio...</td>\n",
       "      <td>Sylvie</td>\n",
       "      <td>Cruz</td>\n",
       "    </tr>\n",
       "  </tbody>\n",
       "</table>\n",
       "</div>"
      ],
      "text/plain": [
       "              Artist                                               Song  \\\n",
       "0   Down To The Bone                                 Keep On Keepin' On   \n",
       "1       Three Drives                                        Greece 2000   \n",
       "2  Sebastien Tellier                                          Kilometer   \n",
       "3      Lonnie Gordon  Catch You Baby (Steve Pitron & Max Sanna Radio...   \n",
       "\n",
       "  first_name last_name  \n",
       "0     Sylvie      Cruz  \n",
       "1     Sylvie      Cruz  \n",
       "2     Sylvie      Cruz  \n",
       "3     Sylvie      Cruz  "
      ]
     },
     "execution_count": 78,
     "metadata": {},
     "output_type": "execute_result"
    }
   ],
   "source": [
    "q2 = pd.DataFrame(data = rows,columns=['Artist','Song','first_name','last_name'])\n",
    "q2"
   ]
  },
  {
   "cell_type": "markdown",
   "id": "3362347d",
   "metadata": {},
   "source": [
    "## Third Query"
   ]
  },
  {
   "cell_type": "code",
   "execution_count": 83,
   "id": "cbc2bdfb",
   "metadata": {},
   "outputs": [],
   "source": [
    "try:\n",
    "    session.execute(\"\"\"\n",
    "        CREATE TABLE IF NOT EXISTS user_info_by_song(\n",
    "        song text,\n",
    "        user_id int,\n",
    "        first_name text,\n",
    "        last_name text,\n",
    "        PRIMARY KEY (song,user_id))\n",
    "    \"\"\")\n",
    "except Exception as e:\n",
    "    print(e)"
   ]
  },
  {
   "cell_type": "code",
   "execution_count": 104,
   "id": "609a5b11",
   "metadata": {},
   "outputs": [],
   "source": [
    "file = 'event_datafile.csv'\n",
    "\n",
    "with open(file, encoding = 'utf8') as f:\n",
    "    csvreader = csv.reader(f)\n",
    "    next(csvreader) # skip header\n",
    "    \n",
    "    for line in csvreader:\n",
    "        query = \"INSERT INTO user_info_by_song (song, user_id, first_name, last_name)\"\n",
    "        query = query + \" VALUES (%s, %s, %s, %s)\"\n",
    "        session.execute(query, (line[9], int(line[10]), line[1], line[4]))"
   ]
  },
  {
   "cell_type": "code",
   "execution_count": 108,
   "id": "5a975aa7",
   "metadata": {},
   "outputs": [],
   "source": [
    "rows = session.execute(\"SELECT song, first_name,last_name FROM user_info_by_song where song='All Hands Against His Own'\")"
   ]
  },
  {
   "cell_type": "code",
   "execution_count": 106,
   "id": "1956e513",
   "metadata": {},
   "outputs": [
    {
     "name": "stdout",
     "output_type": "stream",
     "text": [
      "Jacqueline Lynch\n",
      "Tegan Levine\n",
      "Sara Johnson\n"
     ]
    }
   ],
   "source": [
    "for row in rows:\n",
    "    print(row.first_name,row.last_name)"
   ]
  },
  {
   "cell_type": "code",
   "execution_count": 109,
   "id": "ca68a4e5",
   "metadata": {},
   "outputs": [
    {
     "data": {
      "text/html": [
       "<div>\n",
       "<style scoped>\n",
       "    .dataframe tbody tr th:only-of-type {\n",
       "        vertical-align: middle;\n",
       "    }\n",
       "\n",
       "    .dataframe tbody tr th {\n",
       "        vertical-align: top;\n",
       "    }\n",
       "\n",
       "    .dataframe thead th {\n",
       "        text-align: right;\n",
       "    }\n",
       "</style>\n",
       "<table border=\"1\" class=\"dataframe\">\n",
       "  <thead>\n",
       "    <tr style=\"text-align: right;\">\n",
       "      <th></th>\n",
       "      <th>song</th>\n",
       "      <th>first_name</th>\n",
       "      <th>last_name</th>\n",
       "    </tr>\n",
       "  </thead>\n",
       "  <tbody>\n",
       "    <tr>\n",
       "      <th>0</th>\n",
       "      <td>All Hands Against His Own</td>\n",
       "      <td>Jacqueline</td>\n",
       "      <td>Lynch</td>\n",
       "    </tr>\n",
       "    <tr>\n",
       "      <th>1</th>\n",
       "      <td>All Hands Against His Own</td>\n",
       "      <td>Tegan</td>\n",
       "      <td>Levine</td>\n",
       "    </tr>\n",
       "    <tr>\n",
       "      <th>2</th>\n",
       "      <td>All Hands Against His Own</td>\n",
       "      <td>Sara</td>\n",
       "      <td>Johnson</td>\n",
       "    </tr>\n",
       "  </tbody>\n",
       "</table>\n",
       "</div>"
      ],
      "text/plain": [
       "                        song  first_name last_name\n",
       "0  All Hands Against His Own  Jacqueline     Lynch\n",
       "1  All Hands Against His Own       Tegan    Levine\n",
       "2  All Hands Against His Own        Sara   Johnson"
      ]
     },
     "execution_count": 109,
     "metadata": {},
     "output_type": "execute_result"
    }
   ],
   "source": [
    "q3 = pd.DataFrame(data = rows,columns=['song','first_name','last_name'])\n",
    "q3"
   ]
  },
  {
   "cell_type": "code",
   "execution_count": null,
   "id": "84905262",
   "metadata": {},
   "outputs": [],
   "source": []
  },
  {
   "cell_type": "code",
   "execution_count": null,
   "id": "c42d2425",
   "metadata": {},
   "outputs": [],
   "source": []
  },
  {
   "cell_type": "code",
   "execution_count": null,
   "id": "787237c1",
   "metadata": {},
   "outputs": [],
   "source": []
  }
 ],
 "metadata": {
  "kernelspec": {
   "display_name": "Python 3 (ipykernel)",
   "language": "python",
   "name": "python3"
  },
  "language_info": {
   "codemirror_mode": {
    "name": "ipython",
    "version": 3
   },
   "file_extension": ".py",
   "mimetype": "text/x-python",
   "name": "python",
   "nbconvert_exporter": "python",
   "pygments_lexer": "ipython3",
   "version": "3.11.5"
  }
 },
 "nbformat": 4,
 "nbformat_minor": 5
}
